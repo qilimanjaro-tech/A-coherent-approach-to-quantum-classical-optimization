{
 "cells": [
  {
   "cell_type": "markdown",
   "metadata": {},
   "source": [
    "# <center>  **Classical quantum optimization** <center>"
   ]
  },
  {
   "cell_type": "markdown",
   "metadata": {},
   "source": [
    "## **Packages**"
   ]
  },
  {
   "cell_type": "code",
   "execution_count": 3,
   "metadata": {},
   "outputs": [],
   "source": [
    "from variational_algorithms.tensor_networks.tn_algorithms import Pretraining\n",
    "from variational_algorithms.ansatz import QAOAAnsatz\n",
    "from variational_algorithms.algorithm import VQE, QAOA\n",
    "from variational_algorithms.sampler import Sampler\n",
    "from variational_algorithms.optimizer import CMA_ES\n",
    "from variational_algorithms.use_cases.maxcut.instances import MaxCut_Instance\n",
    "from variational_algorithms.use_cases.maxcut.cost_function import MaxCut_CostFunction\n",
    "from variational_algorithms.use_cases.TSP.cost_function import TSP_CostFunction\n",
    "from variational_algorithms.use_cases.TSP.instances import TSP_Instance\n",
    "from variational_algorithms.logger import Logger\n",
    "from variational_algorithms.tensor_networks.tensor_networks import TensorOperations\n",
    "\n",
    "from scipy.stats import pearsonr\n",
    "\n",
    "import matplotlib.pyplot as plt\n",
    "import seaborn as sns\n",
    "import numpy as np"
   ]
  },
  {
   "cell_type": "markdown",
   "metadata": {},
   "source": [
    "# **MPO Time Evolution for QAOA**"
   ]
  },
  {
   "cell_type": "code",
   "execution_count": 5,
   "metadata": {},
   "outputs": [
    {
     "name": "stdout",
     "output_type": "stream",
     "text": [
      "Exact solution: -29.0\n"
     ]
    }
   ],
   "source": [
    "n_nodes = 14\n",
    "\n",
    "instance_max_cut = MaxCut_Instance(n_nodes)\n",
    "instance_max_cut.random_erdos_renyi()\n",
    "\n",
    "cost_function_max_cut = MaxCut_CostFunction(instance_max_cut)\n",
    "\n",
    "n_qubits = cost_function_max_cut.num_bin_vars\n",
    "\n",
    "exact_solution = float(instance_max_cut.brute_force()[0][2])\n",
    "\n",
    "print('Exact solution:', exact_solution)"
   ]
  },
  {
   "cell_type": "code",
   "execution_count": null,
   "metadata": {},
   "outputs": [],
   "source": [
    "pre = Pretraining(ham = cost_function_max_cut.total_hamiltonian,\n",
    "                  n_qubits = n_qubits,\n",
    "                  chi_mpo = 64,\n",
    "                  fidelity_mps = 1.0,\n",
    "                  sweeps_mps = 100,\n",
    "                  init_layers_mps = 1,\n",
    "                  layers_su4 = 1,\n",
    "                  connectivity_su4 = 'Linear'\n",
    "                  )\n",
    "\n",
    "pretraining_tevo = pre.time_evolution_pretraining(n_steps = 20,\n",
    "                                                  dt = 0.01,\n",
    "                                                  order = 2, \n",
    "                                                  init_mps = None,\n",
    "                                                  metrics = True)\n",
    "\n",
    "print(pretraining_tevo)"
   ]
  },
  {
   "cell_type": "code",
   "execution_count": 9,
   "metadata": {},
   "outputs": [
    {
     "name": "stdout",
     "output_type": "stream",
     "text": [
      "-0.5954811745655867\n"
     ]
    },
    {
     "data": {
      "image/png": "[encoded data removed]",
      "text/plain": [
       "<Figure size 640x480 with 1 Axes>"
      ]
     },
     "metadata": {},
     "output_type": "display_data"
    }
   ],
   "source": [
    "probs_list = []\n",
    "for i in range(2**n_qubits):\n",
    "    sol_string = bin(i)[2:].zfill(n_qubits)\n",
    "    prob = abs(TensorOperations(pre.final_mps.tensors).proyection_state(sol_string))**2\n",
    "    probs_list.append((sol_string, prob))\n",
    "\n",
    "probs_list = sorted(probs_list, key=lambda tup: tup[1], reverse=True)\n",
    "\n",
    "energy_x_list = []\n",
    "pb_log_y_list = []\n",
    "for i in range(len(probs_list)):\n",
    "    \n",
    "    energy_x_list.append(cost_function_max_cut.check_cost_binary(str(probs_list[i][0])))\n",
    "    pb_log_y_list.append(np.log(np.sqrt(probs_list[i][1])))\n",
    "    \n",
    "coeficiente_pearson, valor_p = pearsonr(energy_x_list, pb_log_y_list)\n",
    "\n",
    "print(coeficiente_pearson)\n",
    "\n",
    "\n",
    "plt.plot(energy_x_list, pb_log_y_list)\n",
    "plt.xlabel('Energy')\n",
    "plt.ylabel('Log(Ci)')\n",
    "plt.show()"
   ]
  },
  {
   "cell_type": "code",
   "execution_count": null,
   "metadata": {},
   "outputs": [],
   "source": [
    "optimizer = CMA_ES(max_eval = 10000)\n",
    "sampler = Sampler()\n",
    "\n",
    "\n",
    "regular_qaoa_ansatz = QAOAAnsatz(n_qubits=n_qubits, layers=8, \n",
    "                                 costfunction=cost_function_max_cut, \n",
    "                                 ini_circuit = pretraining_tevo.circuit_mps)\n",
    "\n",
    "\n",
    "qaoa_tsp = QAOA(regular_qaoa_ansatz, cost_function_max_cut, instance_max_cut, optimizer, sampler, n_shots=2000, logger = logger)\n",
    "\n",
    "solution2_tsp = qaoa_tsp.solve()"
   ]
  },
  {
   "cell_type": "markdown",
   "metadata": {},
   "source": [
    "# **Performance DMRG-VQE Classic**"
   ]
  },
  {
   "cell_type": "code",
   "execution_count": 19,
   "metadata": {},
   "outputs": [
    {
     "name": "stdout",
     "output_type": "stream",
     "text": [
      "Exact solution: -38.0\n"
     ]
    }
   ],
   "source": [
    "n_nodes = 14\n",
    "\n",
    "instance_max_cut = MaxCut_Instance(n_nodes)\n",
    "\n",
    "#instance_max_cut.random_erdos_renyi()\n",
    "\n",
    "instance_max_cut.import_from_file('logger_data/logger_data_pretraining_su4/pretraining_dmrg_vqe/case_0_max_cut_instance_n_14')\n",
    "\n",
    "#instance_max_cut.export_to_file('logger_data/logger_data_pretraining_su4/pretraining_dmrg_vqe/case_0_max_cut_instance_n_14')\n",
    "\n",
    "cost_function_max_cut = MaxCut_CostFunction(instance_max_cut)\n",
    "\n",
    "\n",
    "n_qubits = cost_function_max_cut.num_bin_vars\n",
    "\n",
    "exact_solution = float(instance_max_cut.brute_force()[0][2])\n",
    "\n",
    "print('Exact solution:', exact_solution)"
   ]
  },
  {
   "cell_type": "code",
   "execution_count": 21,
   "metadata": {},
   "outputs": [
    {
     "name": "stdout",
     "output_type": "stream",
     "text": [
      "Results:\n",
      "effective_dimension: [1.999488131038454]\n",
      "coherence: [0.9998153271549207] \n",
      "fun: -35.99999999999999 \n",
      "fun_history: [-28.999999999999996, -29.52678360424658, -29.999983287234123, -30.499999893705322, -31.499987789185028, -31.999999890728496, -32.49999992709296, -32.999987858942696, -34.49998781960505, -34.9999878196364, -35.49997571806061, -35.49997571806091, -35.9999757207338, -35.99997572333275, -35.99997572507268, -35.99997572521139, -35.999975725211385, -35.99997572521139, -35.99997572521465, -35.99997572521616, -35.99997572521963, -35.99997572522682, -35.99997573078708, -35.99997580410192, -35.99999999974906, -35.99999999974906, -35.99999999974906, -35.999999999749065, -35.99999999974997, -35.999999999750266, -35.999999999750266, -35.99999999975027, -35.99999999975027, -35.99999999975027, -35.99999999975033, -35.99999999975032, -35.9999999997508, -36.00000000000001, -36.00000000000001, -36.00000000000001, -36.000000000000014, -36.00000000000001, -36.0, -36.0, -35.99999999999999, -35.99999999999999, -35.99999999999999, -35.99999999999999, -36.00000000000001, -36.0000000000001, -36.00000000000001, -35.99999999999999]\n",
      "fidelity: 1.0000000000000213\n",
      "fidelity_history: [2.0143112564698692e-05, 0.0014564432751812894, 0.023070261242847678, 0.1697601793856401, 0.49755121122305024, 0.7536930898823744, 0.8870090598059829, 0.9689498642037611, 0.9814467087000736, 0.9920521754597154, 0.9972706247505932, 0.9985911811031128, 0.9992122109248744, 0.999599471137922, 0.9998568462222155, 0.9999428067444138, 0.9999678949399471, 0.9999904712939041, 0.9999944952909052, 0.9999970009639493, 0.9999983806800844, 0.9999992246032978, 0.9999998130046212, 0.999999795364799, 0.9999999440590513, 0.9999999584294263, 0.999999983826494, 0.999999989010464, 0.9999999939903061, 0.9999999968236313, 0.9999999978149152, 0.9999999993151785, 0.9999999993761008, 0.9999999997928515, 0.9999999998939744, 0.9999999999407594, 0.9999999999645104, 0.9999999999820479, 0.9999999999907128, 0.9999999999938947, 0.9999999999982938, 0.9999999999979579, 0.9999999999995526, 0.9999999999995839, 0.9999999999998179, 0.999999999999901, 0.9999999999999993, 1.0000000000000213]\n",
      "circuit_mps: <variational_algorithms.backends.pennylane_backend.PennyLaneQuantumCircuit object at 0x000001DE87571240>\n",
      "circuit_su4: <variational_algorithms.backends.pennylane_backend.PennyLaneQuantumCircuit object at 0x000001DE881D8F70>\n"
     ]
    }
   ],
   "source": [
    "backend = PennyLaneBackend()\n",
    "pre = Pretraining(circ_class = PennyLaneQuantumCircuit, \n",
    "                  ham = cost_function_max_cut.total_hamiltonian,\n",
    "                  n_qubits = n_qubits,\n",
    "                  chi_mpo = 2,\n",
    "                  fidelity_mps = 1.0,\n",
    "                  sweeps_mps = 50,\n",
    "                  init_layers_mps = 2,\n",
    "                  layers_su4 = 1,\n",
    "                  connectivity_su4 = 'Linear'\n",
    "                  )\n",
    "\n",
    "pretraining_dmrg = pre.dmrg_pretraining(metrics= True, prep_state_dmrg = 'One_state', sweeps_dmrg = 2, lanczos_krydim = 4)\n",
    "\n",
    "print(pretraining_dmrg)"
   ]
  },
  {
   "cell_type": "code",
   "execution_count": 23,
   "metadata": {},
   "outputs": [],
   "source": [
    "ruta_dmrg= f'logger_data/logger_data_pretraining_su4/pretraining_dmrg_vqe/case_0_max_cut_dmrg_vqe_linear.json'\n",
    "\n",
    "datos_dmrg = {\n",
    "    \"energy_dmrg\": pretraining_dmrg.fun_history,\n",
    "    \"exact_energy\": exact_solution\n",
    "}\n",
    "\n",
    "json_datos_dmrg = json.dumps(datos_dmrg, indent=2)\n",
    "\n",
    "with open(ruta_dmrg, 'w') as archivo:\n",
    "    archivo.write(json_datos_dmrg)"
   ]
  },
  {
   "cell_type": "code",
   "execution_count": 24,
   "metadata": {},
   "outputs": [
    {
     "name": "stdout",
     "output_type": "stream",
     "text": [
      "(9_w,19)-aCMA-ES (mu_w=5.6,w_1=29%) in dimension 195 (seed=791550, Mon Aug 26 11:34:54 2024)\n",
      "Iterat #Fevals   function value  axis ratio  sigma  min&max std  t[m:s]\n",
      "    1     19 -3.600000000000000e+01 1.0e+00 9.74e-03  1e-02  1e-02 0:09.0\n",
      "    2     38 -3.600000000000000e+01 1.0e+00 9.51e-03  1e-02  1e-02 0:18.2\n",
      "    3     57 -3.600000000000000e+01 1.0e+00 9.31e-03  9e-03  9e-03 0:27.2\n",
      "    4     76 -3.599800000000000e+01 1.0e+00 9.13e-03  9e-03  9e-03 0:36.1\n",
      "    5     95 -3.600000000000000e+01 1.0e+00 8.98e-03  9e-03  9e-03 0:45.2\n",
      "    6    114 -3.600100000000000e+01 1.0e+00 8.85e-03  9e-03  9e-03 0:54.1\n",
      "    7    133 -3.600000000000000e+01 1.0e+00 8.73e-03  9e-03  9e-03 1:03.3\n",
      "    8    152 -3.600000000000000e+01 1.0e+00 8.62e-03  9e-03  9e-03 1:12.1\n",
      "    9    171 -3.600000000000000e+01 1.0e+00 8.52e-03  9e-03  9e-03 1:21.0\n",
      "   10    190 -3.599900000000000e+01 1.0e+00 8.43e-03  8e-03  8e-03 1:37.6\n",
      "   11    209 -3.600000000000000e+01 1.0e+00 8.34e-03  8e-03  8e-03 1:54.4\n",
      "   12    228 -3.599800000000000e+01 1.0e+00 8.27e-03  8e-03  8e-03 2:06.6\n",
      "   14    266 -3.600000000000000e+01 1.0e+00 8.14e-03  8e-03  8e-03 2:33.4\n",
      "   15    285 -3.599800000000000e+01 1.0e+00 8.09e-03  8e-03  8e-03 2:48.8\n",
      "   17    323 -3.600000000000000e+01 1.0e+00 7.99e-03  8e-03  8e-03 3:10.5\n",
      "   19    361 -3.599900000000000e+01 1.0e+00 7.91e-03  8e-03  8e-03 3:27.8\n",
      "   21    399 -3.599900000000000e+01 1.0e+00 7.83e-03  8e-03  8e-03 3:44.4\n",
      "   24    456 -3.599700000000000e+01 1.0e+00 7.77e-03  8e-03  8e-03 4:09.1\n",
      "   27    513 -3.599800000000000e+01 1.1e+00 7.68e-03  8e-03  8e-03 4:35.3\n",
      "   30    570 -3.599900000000000e+01 1.1e+00 7.63e-03  8e-03  8e-03 5:02.1\n",
      "   33    627 -3.599800000000000e+01 1.1e+00 7.60e-03  8e-03  8e-03 5:34.9\n",
      "   35    665 -3.599600000000000e+01 1.1e+00 7.61e-03  8e-03  8e-03 6:01.5\n",
      "   38    722 -3.599400000000000e+01 1.1e+00 7.60e-03  8e-03  8e-03 6:31.1\n",
      "   41    779 -3.599700000000000e+01 1.1e+00 7.56e-03  8e-03  8e-03 6:56.4\n",
      "   44    836 -3.599700000000000e+01 1.1e+00 7.47e-03  7e-03  7e-03 7:23.2\n",
      "   47    893 -3.599600000000000e+01 1.1e+00 7.39e-03  7e-03  7e-03 7:49.0\n",
      "   51    969 -3.600000000000000e+01 1.1e+00 7.31e-03  7e-03  7e-03 8:23.6\n",
      "   53   1007 -3.600000000000000e+01 1.1e+00 7.29e-03  7e-03  7e-03 8:40.5\n",
      "termination on maxfevals=1000 (Mon Aug 26 11:43:35 2024)\n",
      "final/bestever f-value = -3.599700e+01 -3.600100e+01 after 1008/99 evaluations\n",
      "incumbent solution: [-0.01106398  0.01876036 -0.01561058 -0.00580405  0.02409346  0.02332535\n",
      "  0.02897731 -0.01308918 ...]\n",
      "std deviations: [0.00726427 0.00727932 0.00728873 0.00728216 0.00727601 0.00727743\n",
      " 0.00728632 0.00726849 ...]\n"
     ]
    }
   ],
   "source": [
    "ansatz_tevo = CustomAnsatz(init_circuit = pretraining_dmrg.circuit_mps, circuit = pretraining_dmrg.circuit_su4)\n",
    "\n",
    "ini_params = ansatz_tevo.init_params\n",
    "\n",
    "optimizer = CMA_ES(max_eval = 1000)\n",
    "\n",
    "\n",
    "sampler = Sampler()\n",
    "\n",
    "ruta_vqe = f'case_0_max_cut_dmrg_vqe_quantum_linear.json'\n",
    "logger = Logger(folder_path=\"logger_data/logger_data_pretraining_su4/pretraining_dmrg_vqe\", file_name= ruta_vqe)\n",
    "\n",
    "vqe = VQE(ansatz_tevo, backend, cost_function_max_cut, instance_max_cut, optimizer, sampler, logger = logger)\n",
    "result_vqe_tevo = vqe.solve(ini_params)"
   ]
  },
  {
   "cell_type": "code",
   "execution_count": 57,
   "metadata": {},
   "outputs": [
    {
     "name": "stdout",
     "output_type": "stream",
     "text": [
      "9\n",
      "energy_sol 1.0155895885518815\n"
     ]
    }
   ],
   "source": [
    "N = 3\n",
    "instance_tsp = TSP_Instance(N)\n",
    "instance_tsp.random_uniform_distances()\n",
    "\n",
    "#instance_tsp.export_to_file('logger_data/logger_data_pretraining_su4/pretraining_dmrg_vqe/case_0_tsp_instance_n_9')\n",
    "\n",
    "\n",
    "instance_tsp.import_from_file('logger_data/logger_data_pretraining_su4/pretraining_dmrg_vqe/case_0_tsp_instance_n_9')\n",
    "\n",
    "cost_function_tsp = TSP_CostFunction(instance_tsp, lagrange_multiplier=10)\n",
    "n_qubits = cost_function_tsp.num_bin_vars\n",
    "\n",
    "print(n_qubits)\n",
    "\n",
    "energy_sol = instance_tsp.brute_force()[0][1]\n",
    "print(\"energy_sol\", energy_sol)"
   ]
  },
  {
   "cell_type": "code",
   "execution_count": 58,
   "metadata": {},
   "outputs": [
    {
     "name": "stdout",
     "output_type": "stream",
     "text": [
      "Results:\n",
      "effective_dimension: [1.0]\n",
      "coherence: [-0.0] \n",
      "fun: 1.5792698603718236 \n",
      "fun_history: [30.829753275943453, 45.64873079230716, 37.071598509866476, 30.897965823627953, 26.243508062560636, 21.533714341573294, 20.455771309372146, 20.225368459599345, 12.381614168523363, 12.381254524422346, 12.381254522168454, 6.907656387202927, 1.5907299347473582, 1.5794619535379653, 1.5793827205768878, 1.579382720576909, 1.5793827205768949, 1.5793827205768665, 1.5793827205768878, 1.5793827111169207, 1.5792698635299658, 1.5792698635166218, 1.579269860373401, 1.5792698603733868, 1.5792698603734152, 1.5792698603733797, 1.579269860373337, 1.5792698603733157, 1.5792698603718591, 1.5792698603719018, 1.5792698603718875, 1.5792698603719018, 1.5792698603719018, 1.5792698603718875, 1.5792698603719018, 1.579269860371916, 1.579269860371916, 1.5792698603718947, 1.5792698603718804, 1.5792698603718591, 1.5792698603719089, 1.5792698603719018, 1.5792698603718804, 1.5792698603719018, 1.5792698603719018, 1.5792698603718804, 1.579269860371788, 1.5792698603718236]\n",
      "fidelity: 0.9999999999995268\n",
      "fidelity_history: [0.00011687664102398031, 0.026153674280589075, 0.16534287799077443, 0.42435959324958766, 0.774329409545198, 0.8566868176828883, 0.9158884865158431, 0.9764940829157692, 0.9886252662040562, 0.9953364544464489, 0.997991328294142, 0.9993346243928639, 0.9997556214874845, 0.9997459714563796, 0.9999296365155905, 0.9999493195725274, 0.9999830429663648, 0.9999911704293261, 0.9999967720479611, 0.99999757448812, 0.9999983995547523, 0.9999990373790676, 0.9999994857721247, 0.9999997607155539, 0.9999997886316269, 0.9999999411440013, 0.9999999294170613, 0.9999999779547407, 0.9999999709280176, 0.9999999888379099, 0.9999999925283294, 0.9999999946038494, 0.9999999988638559, 0.9999999968683715, 0.99999999966475, 0.9999999984975607, 0.9999999996731324, 0.9999999996673974, 0.9999999998370039, 0.9999999998668945, 0.999999999885328, 0.9999999999649942, 0.9999999999461404, 0.9999999999920761, 0.9999999999815301, 0.9999999999971054, 0.9999999999915559, 0.9999999999981524, 0.9999999999977218, 0.9999999999986704, 0.9999999999995268]\n",
      "circuit_mps: <variational_algorithms.backends.pennylane_backend.PennyLaneQuantumCircuit object at 0x000001CEA8D3DFC0>\n",
      "circuit_su4: <variational_algorithms.backends.pennylane_backend.PennyLaneQuantumCircuit object at 0x000001CEA8E53880>\n"
     ]
    }
   ],
   "source": [
    "backend = PennyLaneBackend()\n",
    "pre = Pretraining(circ_class = PennyLaneQuantumCircuit, \n",
    "                  ham = cost_function_tsp.total_hamiltonian,\n",
    "                  n_qubits = n_qubits,\n",
    "                  chi_mpo = 2,\n",
    "                  fidelity_mps = 1.0,\n",
    "                  sweeps_mps = 50,\n",
    "                  init_layers_mps = 2,\n",
    "                  layers_su4 = 1,\n",
    "                  connectivity_su4 = 'Linear'\n",
    "                  )\n",
    "\n",
    "pretraining_dmrg = pre.dmrg_pretraining(metrics= True, prep_state_dmrg = 'One_state', sweeps_dmrg = 3, lanczos_krydim = 4)\n",
    "\n",
    "print(pretraining_dmrg)"
   ]
  },
  {
   "cell_type": "code",
   "execution_count": 59,
   "metadata": {},
   "outputs": [],
   "source": [
    "ruta_dmrg= f'logger_data/logger_data_pretraining_su4/pretraining_dmrg_vqe/case_0_tsp_dmrg_vqe_linear.json'\n",
    "\n",
    "datos_dmrg = {\n",
    "    \"energy_dmrg\": pretraining_dmrg.fun_history,\n",
    "    \"exact_energy\": energy_sol\n",
    "}\n",
    "\n",
    "json_datos_dmrg = json.dumps(datos_dmrg, indent=2)\n",
    "\n",
    "with open(ruta_dmrg, 'w') as archivo:\n",
    "    archivo.write(json_datos_dmrg)"
   ]
  },
  {
   "cell_type": "code",
   "execution_count": 60,
   "metadata": {},
   "outputs": [
    {
     "name": "stdout",
     "output_type": "stream",
     "text": [
      "(9_w,18)-aCMA-ES (mu_w=5.4,w_1=30%) in dimension 120 (seed=816396, Mon Aug 26 16:48:51 2024)\n",
      "Iterat #Fevals   function value  axis ratio  sigma  min&max std  t[m:s]\n",
      "    1     18 1.579269860371853e+00 1.0e+00 9.64e-03  1e-02  1e-02 0:00.7\n",
      "    2     36 1.579269860371853e+00 1.0e+00 9.36e-03  9e-03  9e-03 0:01.6\n",
      "    3     54 1.579269860371853e+00 1.0e+00 9.12e-03  9e-03  9e-03 0:02.6\n",
      "    7    126 1.579269860371853e+00 1.0e+00 8.51e-03  8e-03  9e-03 0:05.7\n",
      "   13    234 1.579269860371853e+00 1.0e+00 7.81e-03  8e-03  8e-03 0:10.5\n",
      "   20    360 1.579269860371853e+00 1.1e+00 7.35e-03  7e-03  7e-03 0:15.9\n",
      "   28    504 1.579269860371853e+00 1.1e+00 7.22e-03  7e-03  7e-03 0:22.4\n",
      "   37    666 1.579269860371853e+00 1.1e+00 7.14e-03  7e-03  7e-03 0:29.8\n",
      "   47    846 1.579269860371853e+00 1.2e+00 6.86e-03  7e-03  7e-03 0:38.1\n",
      "   56   1008 1.579269860371853e+00 1.2e+00 6.77e-03  7e-03  7e-03 0:45.4\n",
      "termination on maxfevals=1000 (Mon Aug 26 16:49:36 2024)\n",
      "final/bestever f-value = 1.658189e+00 1.579270e+00 after 1009/2 evaluations\n",
      "incumbent solution: [-0.00623539  0.01446957 -0.0354965  -0.03772586  0.01666142  0.02282406\n",
      " -0.01725591 -0.0203573  ...]\n",
      "std deviations: [0.00673694 0.0067359  0.00681742 0.00674257 0.00678114 0.00674901\n",
      " 0.00671329 0.00673178 ...]\n"
     ]
    }
   ],
   "source": [
    "ansatz_tevo = CustomAnsatz(init_circuit = pretraining_dmrg.circuit_mps, circuit = pretraining_dmrg.circuit_su4)\n",
    "\n",
    "ini_params = ansatz_tevo.init_params\n",
    "\n",
    "optimizer = CMA_ES(max_eval = 1000)\n",
    "\n",
    "\n",
    "sampler = Sampler()\n",
    "\n",
    "ruta_vqe = f'case_0_tsp_dmrg_vqe_quantum_linear.json'\n",
    "logger = Logger(folder_path=\"logger_data/logger_data_pretraining_su4/pretraining_dmrg_vqe\", file_name= ruta_vqe)\n",
    "\n",
    "vqe = VQE(ansatz_tevo, backend, cost_function_tsp, instance_tsp, optimizer, sampler, logger = logger)\n",
    "result_vqe_tevo = vqe.solve(ini_params)"
   ]
  }
 ],
 "metadata": {
  "kernelspec": {
   "display_name": "pretraining_env",
   "language": "python",
   "name": "python3"
  },
  "language_info": {
   "codemirror_mode": {
    "name": "ipython",
    "version": 3
   },
   "file_extension": ".py",
   "mimetype": "text/x-python",
   "name": "python",
   "nbconvert_exporter": "python",
   "pygments_lexer": "ipython3",
   "version": "3.10.15"
  }
 },
 "nbformat": 4,
 "nbformat_minor": 2
}
